{
 "cells": [
  {
   "cell_type": "code",
   "execution_count": 8,
   "metadata": {},
   "outputs": [],
   "source": [
    "import getpass\n",
    "import os\n",
    "from dotenv import load_dotenv\n",
    "\n",
    "load_dotenv()\n",
    "\n",
    "os.environ[\"LANGSMITH_TRACING\"] = \"true\"\n",
    "os.environ[\"LANGSMITH_API_KEY\"] = os.getenv(\"LANGSMITH_API_KEY\")"
   ]
  },
  {
   "cell_type": "code",
   "execution_count": 9,
   "metadata": {},
   "outputs": [],
   "source": [
    "from langchain_ollama import ChatOllama\n",
    "\n",
    "model = ChatOllama(model=os.getenv(\"LLM_MODEL\"))"
   ]
  },
  {
   "cell_type": "code",
   "execution_count": 11,
   "metadata": {},
   "outputs": [
    {
     "name": "stdout",
     "output_type": "stream",
     "text": [
      "LangChain is an open-source project that aims to simplify the creation of blockchain- and web-based applications. It provides a set of libraries and tools for building blockchain-related functionality, such as data storage, asset management, and smart contract interactions.\n",
      "\n",
      "LangChain's main focus is on making it easier for developers to build decentralized applications (dApps) and integrate blockchain technology into their existing projects. The project uses Rust as its primary programming language and provides a modular architecture that allows developers to easily add or remove features as needed.\n",
      "\n",
      "Some of the key features of LangChain include:\n",
      "\n",
      "1. Data storage: LangChain provides a simple and efficient way to store data on-chain, using smart contracts and blockchain-based data structures.\n",
      "2. Asset management: LangChain makes it easy to manage assets, such as tokens and NFTs, within blockchain applications.\n",
      "3. Smart contract interactions: LangChain provides a set of libraries for interacting with smart contracts, making it easier to build dApps that rely on external contracts.\n",
      "4. Interoperability: LangChain aims to enable seamless interoperability between different blockchain platforms and protocols.\n",
      "\n",
      "Overall, LangChain is designed to make it easier for developers to build robust and scalable blockchain-based applications, while also providing a foundation for the development of decentralized applications (dApps).\n"
     ]
    }
   ],
   "source": [
    "response = model.invoke(\"What is LangChain?\")\n",
    "print(response.content)"
   ]
  },
  {
   "cell_type": "code",
   "execution_count": 12,
   "metadata": {},
   "outputs": [
    {
     "data": {
      "text/plain": [
       "AIMessage(content='Ciao!', additional_kwargs={}, response_metadata={'model': 'llama3.2', 'created_at': '2025-02-27T10:01:49.825681085Z', 'done': True, 'done_reason': 'stop', 'total_duration': 674177904, 'load_duration': 17835799, 'prompt_eval_count': 34, 'prompt_eval_duration': 5000000, 'eval_count': 4, 'eval_duration': 20000000, 'message': Message(role='assistant', content='', images=None, tool_calls=None)}, id='run-19f13669-bdf0-4f8e-89cb-ca2fe6c9cd46-0', usage_metadata={'input_tokens': 34, 'output_tokens': 4, 'total_tokens': 38})"
      ]
     },
     "execution_count": 12,
     "metadata": {},
     "output_type": "execute_result"
    }
   ],
   "source": [
    "from langchain_core.messages import HumanMessage, SystemMessage\n",
    "\n",
    "messages = [\n",
    "    SystemMessage(\"Translate the following from English into Italian\"),\n",
    "    HumanMessage(\"hi!\"),\n",
    "]\n",
    "\n",
    "model.invoke(messages)"
   ]
  }
 ],
 "metadata": {
  "kernelspec": {
   "display_name": "base",
   "language": "python",
   "name": "python3"
  },
  "language_info": {
   "codemirror_mode": {
    "name": "ipython",
    "version": 3
   },
   "file_extension": ".py",
   "mimetype": "text/x-python",
   "name": "python",
   "nbconvert_exporter": "python",
   "pygments_lexer": "ipython3",
   "version": "3.12.7"
  }
 },
 "nbformat": 4,
 "nbformat_minor": 2
}
