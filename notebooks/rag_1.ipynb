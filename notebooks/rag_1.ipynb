{
 "cells": [
  {
   "cell_type": "code",
   "execution_count": 1,
   "id": "03c41f59",
   "metadata": {},
   "outputs": [],
   "source": [
    "import getpass\n",
    "import os\n",
    "\n",
    "os.environ[\"LANGSMITH_TRACING\"] = \"true\"\n",
    "os.environ[\"LANGSMITH_TRACING_v2\"] = \"true\"\n",
    "os.environ[\"LANGSMITH_PROJECT\"] = \"tutorial_chatbot\"\n",
    "os.environ[\"LANGSMITH_API_KEY\"] = \"\""
   ]
  },
  {
   "cell_type": "code",
   "execution_count": 2,
   "id": "3c32e967",
   "metadata": {},
   "outputs": [
    {
     "data": {
      "text/plain": [
       "True"
      ]
     },
     "execution_count": 2,
     "metadata": {},
     "output_type": "execute_result"
    }
   ],
   "source": [
    "from dotenv import load_dotenv\n",
    "load_dotenv(dotenv_path=\"../.env\", override=True)"
   ]
  },
  {
   "cell_type": "code",
   "execution_count": 3,
   "id": "3402685b",
   "metadata": {},
   "outputs": [
    {
     "data": {
      "text/plain": [
       "True"
      ]
     },
     "execution_count": 3,
     "metadata": {},
     "output_type": "execute_result"
    }
   ],
   "source": [
    "from langsmith import utils\n",
    "utils.tracing_is_enabled()"
   ]
  },
  {
   "cell_type": "code",
   "execution_count": 4,
   "id": "b71623e6",
   "metadata": {},
   "outputs": [],
   "source": [
    "from langchain_ollama import ChatOllama\n",
    "\n",
    "model = ChatOllama(model=\"qwen3\")"
   ]
  },
  {
   "cell_type": "code",
   "execution_count": 5,
   "id": "a2940d19",
   "metadata": {},
   "outputs": [],
   "source": [
    "from langchain.chat_models import init_chat_model\n",
    "\n",
    "llm = init_chat_model(\"qwen3\", model_provider=\"ollama\")"
   ]
  },
  {
   "cell_type": "code",
   "execution_count": 6,
   "id": "600c797f",
   "metadata": {},
   "outputs": [],
   "source": [
    "from langchain_ollama import OllamaEmbeddings\n",
    "\n",
    "embeddings = OllamaEmbeddings(model=\"nomic-embed-text\")"
   ]
  },
  {
   "cell_type": "code",
   "execution_count": 7,
   "id": "1ba272ce",
   "metadata": {},
   "outputs": [],
   "source": [
    "from langchain_core.vectorstores import InMemoryVectorStore\n",
    "\n",
    "vector_store = InMemoryVectorStore(embeddings)"
   ]
  },
  {
   "cell_type": "code",
   "execution_count": null,
   "id": "be72af62",
   "metadata": {},
   "outputs": [
    {
     "name": "stdout",
     "output_type": "stream",
     "text": [
      "Total characters: 0\n"
     ]
    }
   ],
   "source": [
    "import bs4\n",
    "from langchain_community.document_loaders import WebBaseLoader\n",
    "\n",
    "# Only keep post title, headers, and content from the full HTML.\n",
    "bs4_strainer = bs4.SoupStrainer(class_=(\"post-title\", \"post-header\", \"post-content\"))\n",
    "loader = WebBaseLoader(\n",
    "    web_paths=(\"https://lilianweng.github.io/posts/2023-06-23-agent/\",),\n",
    "    bs_kwargs={\"parse_only\": bs4_strainer},\n",
    ")\n",
    "docs = loader.load()\n",
    "\n",
    "assert len(docs) == 1\n",
    "print(f\"Total characters: {len(docs[0].page_content)}\")"
   ]
  },
  {
   "cell_type": "code",
   "execution_count": 9,
   "id": "cf7ac25c",
   "metadata": {},
   "outputs": [
    {
     "name": "stdout",
     "output_type": "stream",
     "text": [
      "\n",
      "\n",
      "      LLM Powered Autonomous Agents\n",
      "    \n",
      "Date: June 23, 2023  |  Estimated Reading Time: 31 min  |  Author: Lilian Weng\n",
      "\n",
      "\n",
      "Building agents with LLM (large language model) as its core controller is a cool concept. Several proof-of-concepts demos, such as AutoGPT, GPT-Engineer and BabyAGI, serve as inspiring examples. The potentiality of LLM extends beyond generating well-written copies, stories, essays and programs; it can be framed as a powerful general problem solver.\n",
      "Agent System Overview#\n",
      "In\n"
     ]
    }
   ],
   "source": [
    "print(docs[0].page_content[:500])"
   ]
  },
  {
   "cell_type": "code",
   "execution_count": 10,
   "id": "19819b30",
   "metadata": {},
   "outputs": [
    {
     "name": "stdout",
     "output_type": "stream",
     "text": [
      "Split blog post into 66 sub-documents.\n"
     ]
    }
   ],
   "source": [
    "from langchain_text_splitters import RecursiveCharacterTextSplitter\n",
    "\n",
    "text_splitter = RecursiveCharacterTextSplitter(\n",
    "    chunk_size=1000,  # chunk size (characters)\n",
    "    chunk_overlap=200,  # chunk overlap (characters)\n",
    "    add_start_index=True,  # track index in original document\n",
    ")\n",
    "all_splits = text_splitter.split_documents(docs)\n",
    "\n",
    "print(f\"Split blog post into {len(all_splits)} sub-documents.\")"
   ]
  },
  {
   "cell_type": "code",
   "execution_count": 11,
   "id": "3a01c4eb",
   "metadata": {},
   "outputs": [
    {
     "name": "stdout",
     "output_type": "stream",
     "text": [
      "['f2897ab7-fb0c-4bee-8c48-dea0dec8cd8f', '3255904b-5e95-4930-9448-4d7d28177792', '63d55efb-c7dd-4c0e-8262-3134d6b8aa15']\n"
     ]
    }
   ],
   "source": [
    "# Add documents to the vector store\n",
    "document_ids = vector_store.add_documents(documents=all_splits)\n",
    "\n",
    "print(document_ids[:3])"
   ]
  },
  {
   "cell_type": "code",
   "execution_count": 12,
   "id": "2bc53c2a",
   "metadata": {},
   "outputs": [
    {
     "name": "stdout",
     "output_type": "stream",
     "text": [
      "You are an assistant for question-answering tasks. Use the following pieces of retrieved context to answer the question. If you don't know the answer, just say that you don't know. Use three sentences maximum and keep the answer concise.\n",
      "Question: (question goes here) \n",
      "Context: (context goes here) \n",
      "Answer:\n"
     ]
    }
   ],
   "source": [
    "from langchain import hub\n",
    "\n",
    "prompt = hub.pull(\"rlm/rag-prompt\")\n",
    "\n",
    "example_messages = prompt.invoke(\n",
    "    {\"context\": \"(context goes here)\", \"question\": \"(question goes here)\"}\n",
    ").to_messages()\n",
    "\n",
    "assert len(example_messages) == 1\n",
    "print(example_messages[0].content)"
   ]
  },
  {
   "cell_type": "markdown",
   "id": "c1ff82c3",
   "metadata": {},
   "source": [
    "## State:\n",
    "The state of our application controls what data is input to the application, transferred between steps, and output by the application. It is typically a TypedDict, but can also be a Pydantic BaseModel.\n",
    "\n",
    "For a simple RAG application, we can just keep track of the input question, retrieved context, and generated answer:"
   ]
  },
  {
   "cell_type": "code",
   "execution_count": 13,
   "id": "7e3de258",
   "metadata": {},
   "outputs": [],
   "source": [
    "from langchain_core.documents import Document\n",
    "from typing_extensions import List, TypedDict\n",
    "\n",
    "\n",
    "class State(TypedDict):\n",
    "    question: str\n",
    "    context: List[Document]\n",
    "    answer: str"
   ]
  },
  {
   "cell_type": "markdown",
   "id": "d520651b",
   "metadata": {},
   "source": [
    "## Nodes (application steps)\n",
    "Let's start with a simple sequence of two steps: retrieval and generation."
   ]
  },
  {
   "cell_type": "code",
   "execution_count": 14,
   "id": "c268281e",
   "metadata": {},
   "outputs": [],
   "source": [
    "def retrieve(state: State):\n",
    "    retrieved_docs = vector_store.similarity_search(state[\"question\"])\n",
    "    return {\"context\": retrieved_docs}\n",
    "\n",
    "\n",
    "def generate(state: State):\n",
    "    docs_content = \"\\n\\n\".join(doc.page_content for doc in state[\"context\"])\n",
    "    messages = prompt.invoke({\"question\": state[\"question\"], \"context\": docs_content})\n",
    "    response = llm.invoke(messages)\n",
    "    return {\"answer\": response.content}"
   ]
  },
  {
   "cell_type": "markdown",
   "id": "ee6ea0b7",
   "metadata": {},
   "source": [
    "Our retrieval step simply runs a similarity search using the input question, and the generation step formats the retrieved context and original question into a prompt for the chat model.\n",
    "\n",
    "## Control flow\n",
    "Finally, we compile our application into a single graph object. In this case, we are just connecting the retrieval and generation steps into a single sequence."
   ]
  },
  {
   "cell_type": "code",
   "execution_count": 15,
   "id": "02f37b90",
   "metadata": {},
   "outputs": [],
   "source": [
    "from langgraph.graph import START, StateGraph\n",
    "\n",
    "graph_builder = StateGraph(State).add_sequence([retrieve, generate])\n",
    "graph_builder.add_edge(START, \"retrieve\")\n",
    "graph = graph_builder.compile()"
   ]
  },
  {
   "cell_type": "code",
   "execution_count": 16,
   "id": "c14d08a8",
   "metadata": {},
   "outputs": [
    {
     "data": {
      "image/png": "[encoded data removed]",
      "text/plain": [
       "<IPython.core.display.Image object>"
      ]
     },
     "metadata": {},
     "output_type": "display_data"
    }
   ],
   "source": [
    "from IPython.display import Image, display\n",
    "\n",
    "display(Image(graph.get_graph().draw_mermaid_png()))"
   ]
  },
  {
   "cell_type": "code",
   "execution_count": 17,
   "id": "38979eb5",
   "metadata": {},
   "outputs": [
    {
     "name": "stdout",
     "output_type": "stream",
     "text": [
      "Context: [Document(id='63d55efb-c7dd-4c0e-8262-3134d6b8aa15', metadata={'source': 'https://lilianweng.github.io/posts/2023-06-23-agent/', 'start_index': 1585}, page_content='Fig. 1. Overview of a LLM-powered autonomous agent system.\\nComponent One: Planning#\\nA complicated task usually involves many steps. An agent needs to know what they are and plan ahead.\\nTask Decomposition#\\nChain of thought (CoT; Wei et al. 2022) has become a standard prompting technique for enhancing model performance on complex tasks. The model is instructed to “think step by step” to utilize more test-time computation to decompose hard tasks into smaller and simpler steps. CoT transforms big tasks into multiple manageable tasks and shed lights into an interpretation of the model’s thinking process.'), Document(id='5043944a-05d6-42db-822d-a6bda67b4ae8', metadata={'source': 'https://lilianweng.github.io/posts/2023-06-23-agent/', 'start_index': 19372}, page_content=\"(3) Task execution: Expert models execute on the specific tasks and log results.\\nInstruction:\\n\\nWith the input and the inference results, the AI assistant needs to describe the process and results. The previous stages can be formed as - User Input: {{ User Input }}, Task Planning: {{ Tasks }}, Model Selection: {{ Model Assignment }}, Task Execution: {{ Predictions }}. You must first answer the user's request in a straightforward manner. Then describe the task process and show your analysis and model inference results to the user in the first person. If inference results contain a file path, must tell the user the complete file path.\"), Document(id='59a39aec-73ab-4c33-a51b-23222b1b3aa3', metadata={'source': 'https://lilianweng.github.io/posts/2023-06-23-agent/', 'start_index': 2192}, page_content='Tree of Thoughts (Yao et al. 2023) extends CoT by exploring multiple reasoning possibilities at each step. It first decomposes the problem into multiple thought steps and generates multiple thoughts per step, creating a tree structure. The search process can be BFS (breadth-first search) or DFS (depth-first search) with each state evaluated by a classifier (via a prompt) or majority vote.\\nTask decomposition can be done (1) by LLM with simple prompting like \"Steps for XYZ.\\\\n1.\", \"What are the subgoals for achieving XYZ?\", (2) by using task-specific instructions; e.g. \"Write a story outline.\" for writing a novel, or (3) with human inputs.'), Document(id='8b27fa46-d322-4866-8a6d-3346786b2adc', metadata={'source': 'https://lilianweng.github.io/posts/2023-06-23-agent/', 'start_index': 17803}, page_content='The AI assistant can parse user input to several tasks: [{\"task\": task, \"id\", task_id, \"dep\": dependency_task_ids, \"args\": {\"text\": text, \"image\": URL, \"audio\": URL, \"video\": URL}}]. The \"dep\" field denotes the id of the previous task which generates a new resource that the current task relies on. A special tag \"-task_id\" refers to the generated text image, audio and video in the dependency task with id as task_id. The task MUST be selected from the following options: {{ Available Task List }}. There is a logical relationship between tasks, please note their order. If the user input can\\'t be parsed, you need to reply empty JSON. Here are several cases for your reference: {{ Demonstrations }}. The chat history is recorded as {{ Chat History }}. From this chat history, you can find the path of the user-mentioned resources for your task planning.')]\n",
      "\n",
      "\n",
      "Answer: <think>\n",
      "Okay, the user is asking about Task Decomposition. Let me check the context provided.\n",
      "\n",
      "The context mentions that Task Decomposition is part of a LLM-powered agent system. It explains that complex tasks are broken down into smaller steps, and Chain of Thought (CoT) is a method used for this. CoT involves the model thinking step by step to decompose tasks. There's also mention of Tree of Thoughts extending CoT by exploring multiple reasoning paths. The answer should define Task Decomposition, mention CoT, and maybe note the extension with Tree of Thoughts. Need to keep it concise, three sentences max. Make sure to use the context details but not add extra info. Also, check if the answer needs to include the JSON parsing part, but the question is general, so probably not. Focus on the definition and methods mentioned.\n",
      "</think>\n",
      "\n",
      "Task Decomposition is the process of breaking down complex tasks into smaller, manageable steps. It leverages Chain of Thought (CoT) prompting to guide models in decomposing tasks systematically, enhancing performance on intricate problems. Techniques like Tree of Thoughts further expand this by exploring multiple reasoning paths through a tree structure.\n"
     ]
    }
   ],
   "source": [
    "result = graph.invoke({\"question\": \"What is Task Decomposition?\"})\n",
    "\n",
    "print(f'Context: {result[\"context\"]}\\n\\n')\n",
    "print(f'Answer: {result[\"answer\"]}')"
   ]
  },
  {
   "cell_type": "code",
   "execution_count": 18,
   "id": "edb04d7b",
   "metadata": {},
   "outputs": [
    {
     "name": "stdout",
     "output_type": "stream",
     "text": [
      "{'retrieve': {'context': [Document(id='63d55efb-c7dd-4c0e-8262-3134d6b8aa15', metadata={'source': 'https://lilianweng.github.io/posts/2023-06-23-agent/', 'start_index': 1585}, page_content='Fig. 1. Overview of a LLM-powered autonomous agent system.\\nComponent One: Planning#\\nA complicated task usually involves many steps. An agent needs to know what they are and plan ahead.\\nTask Decomposition#\\nChain of thought (CoT; Wei et al. 2022) has become a standard prompting technique for enhancing model performance on complex tasks. The model is instructed to “think step by step” to utilize more test-time computation to decompose hard tasks into smaller and simpler steps. CoT transforms big tasks into multiple manageable tasks and shed lights into an interpretation of the model’s thinking process.'), Document(id='5043944a-05d6-42db-822d-a6bda67b4ae8', metadata={'source': 'https://lilianweng.github.io/posts/2023-06-23-agent/', 'start_index': 19372}, page_content=\"(3) Task execution: Expert models execute on the specific tasks and log results.\\nInstruction:\\n\\nWith the input and the inference results, the AI assistant needs to describe the process and results. The previous stages can be formed as - User Input: {{ User Input }}, Task Planning: {{ Tasks }}, Model Selection: {{ Model Assignment }}, Task Execution: {{ Predictions }}. You must first answer the user's request in a straightforward manner. Then describe the task process and show your analysis and model inference results to the user in the first person. If inference results contain a file path, must tell the user the complete file path.\"), Document(id='59a39aec-73ab-4c33-a51b-23222b1b3aa3', metadata={'source': 'https://lilianweng.github.io/posts/2023-06-23-agent/', 'start_index': 2192}, page_content='Tree of Thoughts (Yao et al. 2023) extends CoT by exploring multiple reasoning possibilities at each step. It first decomposes the problem into multiple thought steps and generates multiple thoughts per step, creating a tree structure. The search process can be BFS (breadth-first search) or DFS (depth-first search) with each state evaluated by a classifier (via a prompt) or majority vote.\\nTask decomposition can be done (1) by LLM with simple prompting like \"Steps for XYZ.\\\\n1.\", \"What are the subgoals for achieving XYZ?\", (2) by using task-specific instructions; e.g. \"Write a story outline.\" for writing a novel, or (3) with human inputs.'), Document(id='8b27fa46-d322-4866-8a6d-3346786b2adc', metadata={'source': 'https://lilianweng.github.io/posts/2023-06-23-agent/', 'start_index': 17803}, page_content='The AI assistant can parse user input to several tasks: [{\"task\": task, \"id\", task_id, \"dep\": dependency_task_ids, \"args\": {\"text\": text, \"image\": URL, \"audio\": URL, \"video\": URL}}]. The \"dep\" field denotes the id of the previous task which generates a new resource that the current task relies on. A special tag \"-task_id\" refers to the generated text image, audio and video in the dependency task with id as task_id. The task MUST be selected from the following options: {{ Available Task List }}. There is a logical relationship between tasks, please note their order. If the user input can\\'t be parsed, you need to reply empty JSON. Here are several cases for your reference: {{ Demonstrations }}. The chat history is recorded as {{ Chat History }}. From this chat history, you can find the path of the user-mentioned resources for your task planning.')]}}\n",
      "\n",
      "----------------\n",
      "\n",
      "{'generate': {'answer': '<think>\\nOkay, the user is asking about Task Decomposition. Let me check the provided context.\\n\\nThe context mentions Task Decomposition in the section under Component One: Planning. It explains that complex tasks are broken into smaller steps. The Chain of Thought (CoT) method is highlighted as a standard technique where models \"think step by step\" to decompose tasks. Also, Tree of Thoughts extends CoT by exploring multiple reasoning paths. The answer should define Task Decomposition, mention CoT and Tree of Thoughts as methods, and note that it\\'s used to break down tasks into manageable parts. Keep it concise, three sentences max.\\n</think>\\n\\nTask Decomposition is the process of breaking down complex tasks into smaller, manageable steps. It often uses techniques like Chain of Thought (CoT) to guide models in decomposing problems systematically. Methods such as Tree of Thoughts further enhance this by exploring multiple reasoning paths during decomposition.'}}\n",
      "\n",
      "----------------\n",
      "\n"
     ]
    }
   ],
   "source": [
    "for step in graph.stream(\n",
    "    {\"question\": \"What is Task Decomposition?\"}, stream_mode=\"updates\"\n",
    "):\n",
    "    print(f\"{step}\\n\\n----------------\\n\")"
   ]
  },
  {
   "cell_type": "code",
   "execution_count": 19,
   "id": "764893e6",
   "metadata": {},
   "outputs": [
    {
     "name": "stdout",
     "output_type": "stream",
     "text": [
      "<think>|\n",
      "|Okay|,| the| user| is| asking| about| Task| Decom|position|.| Let| me| check| the| provided| context|.\n",
      "\n",
      "|The| context| mentions| Task| Decom|position| as| part| of| a| L|LM|-powered| agent| system|.| It| explains| that| Co|T| (|Chain| of| Thought|)| is| a| method| where| the| model| breaks| down| complex| tasks| into| smaller| steps| by| thinking| step| by| step|.| Also|,| Tree| of| Thoughts| extends| this| by| exploring| multiple| reasoning| paths|.| The| answer| should| define| Task| Decom|position|,| mention| Co|T| and| Tree| of| Thoughts| as| methods|,| and| note| that| it|'s| used| to| simplify| complex| tasks|.| Need| to| keep| it| concise|,| three| sentences| max|.| Make| sure| to| use| the| context| provided| and| not| add| extra| info|.\n",
      "|</think>|\n",
      "\n",
      "|Task| Decom|position| is| the| process| of| breaking| down| complex| tasks| into| smaller|,| manageable| steps|.| It| lever|ages| methods| like| Chain| of| Thought| (|Co|T|)| and| Tree| of| Thoughts| to| guide| models| in| systematically| solving| problems| by| analyzing| dependencies| and| generating| sub|goals|.| This| approach| enhances| task| execution| efficiency| and| clar|ifies| the| model|'s| reasoning| process|.||"
     ]
    }
   ],
   "source": [
    "for message, metadata in graph.stream(\n",
    "    {\"question\": \"What is Task Decomposition?\"}, stream_mode=\"messages\"\n",
    "):\n",
    "    print(message.content, end=\"|\")"
   ]
  },
  {
   "cell_type": "markdown",
   "id": "4f43cb66",
   "metadata": {},
   "source": [
    "## Query analysis\n",
    "So far, we are executing the retrieval using the raw input query. However, there are some advantages to allowing a model to generate the query for retrieval purposes. For example:\n",
    "\n",
    "In addition to semantic search, we can build in structured filters (e.g., \"Find documents since the year 2020.\");\n",
    "The model can rewrite user queries, which may be multifaceted or include irrelevant language, into more effective search queries.\n",
    "Query analysis employs models to transform or construct optimized search queries from raw user input. We can easily incorporate a query analysis step into our application. For illustrative purposes, let's add some metadata to the documents in our vector store. We will add some (contrived) sections to the document which we can filter on later."
   ]
  },
  {
   "cell_type": "code",
   "execution_count": 20,
   "id": "e31d914f",
   "metadata": {},
   "outputs": [
    {
     "data": {
      "text/plain": [
       "{'source': 'https://lilianweng.github.io/posts/2023-06-23-agent/',\n",
       " 'start_index': 8,\n",
       " 'section': 'beginning'}"
      ]
     },
     "execution_count": 20,
     "metadata": {},
     "output_type": "execute_result"
    }
   ],
   "source": [
    "total_documents = len(all_splits)\n",
    "third = total_documents // 3\n",
    "\n",
    "for i, document in enumerate(all_splits):\n",
    "    if i < third:\n",
    "        document.metadata[\"section\"] = \"beginning\"\n",
    "    elif i < 2 * third:\n",
    "        document.metadata[\"section\"] = \"middle\"\n",
    "    else:\n",
    "        document.metadata[\"section\"] = \"end\"\n",
    "\n",
    "\n",
    "all_splits[0].metadata"
   ]
  },
  {
   "cell_type": "markdown",
   "id": "d0d04bee",
   "metadata": {},
   "source": [
    "We will need to update the documents in our vector store. We will use a simple InMemoryVectorStore for this, as we will use some of its specific features (i.e., metadata filtering). Refer to the vector store integration documentation for relevant features of your chosen vector store."
   ]
  },
  {
   "cell_type": "code",
   "execution_count": 21,
   "id": "106a9027",
   "metadata": {},
   "outputs": [],
   "source": [
    "from langchain_core.vectorstores import InMemoryVectorStore\n",
    "\n",
    "vector_store = InMemoryVectorStore(embeddings)\n",
    "_ = vector_store.add_documents(all_splits)"
   ]
  },
  {
   "cell_type": "markdown",
   "id": "c1e3b1e6",
   "metadata": {},
   "source": [
    "Let's next define a schema for our search query. We will use structured output for this purpose. Here we define a query as containing a string query and a document section (either \"beginning\", \"middle\", or \"end\"), but this can be defined however you like."
   ]
  },
  {
   "cell_type": "code",
   "execution_count": 22,
   "id": "d24ea8ee",
   "metadata": {},
   "outputs": [],
   "source": [
    "from typing import Literal\n",
    "\n",
    "from typing_extensions import Annotated\n",
    "\n",
    "\n",
    "class Search(TypedDict):\n",
    "    \"\"\"Search query.\"\"\"\n",
    "\n",
    "    query: Annotated[str, ..., \"Search query to run.\"]\n",
    "    section: Annotated[\n",
    "        Literal[\"beginning\", \"middle\", \"end\"],\n",
    "        ...,\n",
    "        \"Section to query.\",\n",
    "    ]"
   ]
  },
  {
   "cell_type": "markdown",
   "id": "ed7799ab",
   "metadata": {},
   "source": [
    "Finally, we add a step to our LangGraph application to generate a query from the user's raw input:"
   ]
  },
  {
   "cell_type": "code",
   "execution_count": 23,
   "id": "7ba3d9f0",
   "metadata": {},
   "outputs": [],
   "source": [
    "class State(TypedDict):\n",
    "    question: str\n",
    "    query: Search\n",
    "    context: List[Document]\n",
    "    answer: str\n",
    "\n",
    "\n",
    "def analyze_query(state: State):\n",
    "    structured_llm = llm.with_structured_output(Search)\n",
    "    query = structured_llm.invoke(state[\"question\"])\n",
    "    return {\"query\": query}\n",
    "\n",
    "\n",
    "def retrieve(state: State):\n",
    "    query = state[\"query\"]\n",
    "    retrieved_docs = vector_store.similarity_search(\n",
    "        query[\"query\"],\n",
    "        filter=lambda doc: doc.metadata.get(\"section\") == query[\"section\"],\n",
    "    )\n",
    "    return {\"context\": retrieved_docs}\n",
    "\n",
    "\n",
    "def generate(state: State):\n",
    "    docs_content = \"\\n\\n\".join(doc.page_content for doc in state[\"context\"])\n",
    "    messages = prompt.invoke({\"question\": state[\"question\"], \"context\": docs_content})\n",
    "    response = llm.invoke(messages)\n",
    "    return {\"answer\": response.content}\n",
    "\n",
    "\n",
    "graph_builder = StateGraph(State).add_sequence([analyze_query, retrieve, generate])\n",
    "graph_builder.add_edge(START, \"analyze_query\")\n",
    "graph = graph_builder.compile()"
   ]
  },
  {
   "cell_type": "code",
   "execution_count": 24,
   "id": "b14d9f8b",
   "metadata": {},
   "outputs": [
    {
     "data": {
      "image/png": "[encoded data removed]",
      "text/plain": [
       "<IPython.core.display.Image object>"
      ]
     },
     "metadata": {},
     "output_type": "display_data"
    }
   ],
   "source": [
    "display(Image(graph.get_graph().draw_mermaid_png()))"
   ]
  },
  {
   "cell_type": "code",
   "execution_count": 25,
   "id": "c25533ff",
   "metadata": {},
   "outputs": [
    {
     "name": "stdout",
     "output_type": "stream",
     "text": [
      "{'analyze_query': {'query': {'query': 'Task Decomposition', 'section': 'end'}}}\n",
      "\n",
      "----------------\n",
      "\n",
      "{'retrieve': {'context': [Document(id='944a3041-8900-4eb7-8a55-cac27faf1c45', metadata={'source': 'https://lilianweng.github.io/posts/2023-06-23-agent/', 'start_index': 39220, 'section': 'end'}, page_content='Finite context length: The restricted context capacity limits the inclusion of historical information, detailed instructions, API call context, and responses. The design of the system has to work with this limited communication bandwidth, while mechanisms like self-reflection to learn from past mistakes would benefit a lot from long or infinite context windows. Although vector stores and retrieval can provide access to a larger knowledge pool, their representation power is not as powerful as full attention.\\n\\n\\nChallenges in long-term planning and task decomposition: Planning over a lengthy history and effectively exploring the solution space remain challenging. LLMs struggle to adjust plans when faced with unexpected errors, making them less robust compared to humans who learn from trial and error.'), Document(id='1eab390d-6516-4978-bb32-a9d227164f46', metadata={'source': 'https://lilianweng.github.io/posts/2023-06-23-agent/', 'start_index': 30951, 'section': 'end'}, page_content='Here are a sample conversation for task clarification sent to OpenAI ChatCompletion endpoint used by GPT-Engineer. The user inputs are wrapped in {{user input text}}.\\n[\\n  {\\n    \"role\": \"system\",\\n    \"content\": \"You will read instructions and not carry them out, only seek to clarify them.\\\\nSpecifically you will first summarise a list of super short bullets of areas that need clarification.\\\\nThen you will pick one clarifying question, and wait for an answer from the user.\\\\n\"\\n  },\\n  {\\n    \"role\": \"user\",\\n    \"content\": \"We are writing {{a Super Mario game in python. MVC components split in separate files. Keyboard control.}}\\\\n\"\\n  },\\n  {\\n    \"role\": \"assistant\",'), Document(id='cd318140-c982-4d03-93be-1c24592b0732', metadata={'source': 'https://lilianweng.github.io/posts/2023-06-23-agent/', 'start_index': 30187, 'section': 'end'}, page_content='You should only respond in JSON format as described below\\nResponse Format:\\n{\\n    \"thoughts\": {\\n        \"text\": \"thought\",\\n        \"reasoning\": \"reasoning\",\\n        \"plan\": \"- short bulleted\\\\n- list that conveys\\\\n- long-term plan\",\\n        \"criticism\": \"constructive self-criticism\",\\n        \"speak\": \"thoughts summary to say to user\"\\n    },\\n    \"command\": {\\n        \"name\": \"command name\",\\n        \"args\": {\\n            \"arg name\": \"value\"\\n        }\\n    }\\n}\\nEnsure the response can be parsed by Python json.loads\\nGPT-Engineer is another project to create a whole repository of code given a task specified in natural language. The GPT-Engineer is instructed to think over a list of smaller components to build and ask for user input to clarify questions as needed.\\nHere are a sample conversation for task clarification sent to OpenAI ChatCompletion endpoint used by GPT-Engineer. The user inputs are wrapped in {{user input text}}.\\n[\\n  {\\n    \"role\": \"system\",'), Document(id='35d43c51-d1c9-4984-9c56-96926834175a', metadata={'source': 'https://lilianweng.github.io/posts/2023-06-23-agent/', 'start_index': 39085, 'section': 'end'}, page_content='}\\n]\\nChallenges#\\nAfter going through key ideas and demos of building LLM-centered agents, I start to see a couple common limitations:')]}}\n",
      "\n",
      "----------------\n",
      "\n",
      "{'generate': {'answer': '<think>\\nOkay, let\\'s tackle this question. The user is asking what the end of the post says about Task Decomposition. First, I need to look through the provided context to find relevant information.\\n\\nThe context mentions \"Challenges in long-term planning and task decomposition\" and states that planning over a lengthy history and exploring solutions are challenging. It also says LLMs struggle to adjust plans with unexpected errors, making them less robust compared to humans. \\n\\nThe end of the post likely refers to these points. Task Decomposition is part of the challenges discussed, highlighting difficulties in breaking down tasks and adjusting plans. The answer should connect these points concisely. Since the user wants three sentences max, I\\'ll summarize the key challenge and the implication for LLMs.\\n</think>\\n\\nThe end of the post highlights challenges in task decomposition, noting difficulties in long-term planning and adjusting plans during unexpected errors. It emphasizes LLMs\\' struggle to robustly handle such scenarios compared to humans. Task decomposition remains a critical hurdle for effective solution exploration.'}}\n",
      "\n",
      "----------------\n",
      "\n"
     ]
    }
   ],
   "source": [
    "for step in graph.stream(\n",
    "    {\"question\": \"What does the end of the post say about Task Decomposition?\"},\n",
    "    stream_mode=\"updates\",\n",
    "):\n",
    "    print(f\"{step}\\n\\n----------------\\n\")"
   ]
  },
  {
   "cell_type": "code",
   "execution_count": 26,
   "id": "0079476e",
   "metadata": {},
   "outputs": [],
   "source": [
    "from typing import Literal\n",
    "\n",
    "import bs4\n",
    "from langchain import hub\n",
    "from langchain_community.document_loaders import WebBaseLoader\n",
    "from langchain_core.documents import Document\n",
    "from langchain_core.vectorstores import InMemoryVectorStore\n",
    "from langchain_text_splitters import RecursiveCharacterTextSplitter\n",
    "from langgraph.graph import START, StateGraph\n",
    "from typing_extensions import Annotated, List, TypedDict\n",
    "\n",
    "# Load and chunk contents of the blog\n",
    "loader = WebBaseLoader(\n",
    "    web_paths=(\"https://lilianweng.github.io/posts/2023-06-23-agent/\",),\n",
    "    bs_kwargs=dict(\n",
    "        parse_only=bs4.SoupStrainer(\n",
    "            class_=(\"post-content\", \"post-title\", \"post-header\")\n",
    "        )\n",
    "    ),\n",
    ")\n",
    "docs = loader.load()\n",
    "\n",
    "text_splitter = RecursiveCharacterTextSplitter(chunk_size=1000, chunk_overlap=200)\n",
    "all_splits = text_splitter.split_documents(docs)\n",
    "\n",
    "\n",
    "# Update metadata (illustration purposes)\n",
    "total_documents = len(all_splits)\n",
    "third = total_documents // 3\n",
    "\n",
    "for i, document in enumerate(all_splits):\n",
    "    if i < third:\n",
    "        document.metadata[\"section\"] = \"beginning\"\n",
    "    elif i < 2 * third:\n",
    "        document.metadata[\"section\"] = \"middle\"\n",
    "    else:\n",
    "        document.metadata[\"section\"] = \"end\"\n",
    "\n",
    "\n",
    "# Index chunks\n",
    "vector_store = InMemoryVectorStore(embeddings)\n",
    "_ = vector_store.add_documents(all_splits)\n",
    "\n",
    "\n",
    "# Define schema for search\n",
    "class Search(TypedDict):\n",
    "    \"\"\"Search query.\"\"\"\n",
    "\n",
    "    query: Annotated[str, ..., \"Search query to run.\"]\n",
    "    section: Annotated[\n",
    "        Literal[\"beginning\", \"middle\", \"end\"],\n",
    "        ...,\n",
    "        \"Section to query.\",\n",
    "    ]\n",
    "\n",
    "# Define prompt for question-answering\n",
    "prompt = hub.pull(\"rlm/rag-prompt\")\n",
    "\n",
    "\n",
    "# Define state for application\n",
    "class State(TypedDict):\n",
    "    question: str\n",
    "    query: Search\n",
    "    context: List[Document]\n",
    "    answer: str\n",
    "\n",
    "\n",
    "def analyze_query(state: State):\n",
    "    structured_llm = llm.with_structured_output(Search)\n",
    "    query = structured_llm.invoke(state[\"question\"])\n",
    "    return {\"query\": query}\n",
    "\n",
    "\n",
    "def retrieve(state: State):\n",
    "    query = state[\"query\"]\n",
    "    retrieved_docs = vector_store.similarity_search(\n",
    "        query[\"query\"],\n",
    "        filter=lambda doc: doc.metadata.get(\"section\") == query[\"section\"],\n",
    "    )\n",
    "    return {\"context\": retrieved_docs}\n",
    "\n",
    "\n",
    "def generate(state: State):\n",
    "    docs_content = \"\\n\\n\".join(doc.page_content for doc in state[\"context\"])\n",
    "    messages = prompt.invoke({\"question\": state[\"question\"], \"context\": docs_content})\n",
    "    response = llm.invoke(messages)\n",
    "    return {\"answer\": response.content}\n",
    "\n",
    "\n",
    "graph_builder = StateGraph(State).add_sequence([analyze_query, retrieve, generate])\n",
    "graph_builder.add_edge(START, \"analyze_query\")\n",
    "graph = graph_builder.compile()"
   ]
  },
  {
   "cell_type": "code",
   "execution_count": 27,
   "id": "779f7435",
   "metadata": {},
   "outputs": [
    {
     "name": "stdout",
     "output_type": "stream",
     "text": [
      "{'analyze_query': {'query': {'query': 'Task Decomposition', 'section': 'end'}}}\n",
      "\n",
      "----------------\n",
      "\n",
      "{'retrieve': {'context': [Document(id='49423c91-8173-4683-b916-f09841f2ec72', metadata={'source': 'https://lilianweng.github.io/posts/2023-06-23-agent/', 'section': 'end'}, page_content='Finite context length: The restricted context capacity limits the inclusion of historical information, detailed instructions, API call context, and responses. The design of the system has to work with this limited communication bandwidth, while mechanisms like self-reflection to learn from past mistakes would benefit a lot from long or infinite context windows. Although vector stores and retrieval can provide access to a larger knowledge pool, their representation power is not as powerful as full attention.\\n\\n\\nChallenges in long-term planning and task decomposition: Planning over a lengthy history and effectively exploring the solution space remain challenging. LLMs struggle to adjust plans when faced with unexpected errors, making them less robust compared to humans who learn from trial and error.'), Document(id='78c77137-5a96-47cf-82ab-5b5606d8efee', metadata={'source': 'https://lilianweng.github.io/posts/2023-06-23-agent/', 'section': 'end'}, page_content='Here are a sample conversation for task clarification sent to OpenAI ChatCompletion endpoint used by GPT-Engineer. The user inputs are wrapped in {{user input text}}.\\n[\\n  {\\n    \"role\": \"system\",\\n    \"content\": \"You will read instructions and not carry them out, only seek to clarify them.\\\\nSpecifically you will first summarise a list of super short bullets of areas that need clarification.\\\\nThen you will pick one clarifying question, and wait for an answer from the user.\\\\n\"\\n  },\\n  {\\n    \"role\": \"user\",\\n    \"content\": \"We are writing {{a Super Mario game in python. MVC components split in separate files. Keyboard control.}}\\\\n\"\\n  },\\n  {\\n    \"role\": \"assistant\",'), Document(id='a3b62e47-258f-4da4-8057-16b7e813ef2a', metadata={'source': 'https://lilianweng.github.io/posts/2023-06-23-agent/', 'section': 'end'}, page_content='You should only respond in JSON format as described below\\nResponse Format:\\n{\\n    \"thoughts\": {\\n        \"text\": \"thought\",\\n        \"reasoning\": \"reasoning\",\\n        \"plan\": \"- short bulleted\\\\n- list that conveys\\\\n- long-term plan\",\\n        \"criticism\": \"constructive self-criticism\",\\n        \"speak\": \"thoughts summary to say to user\"\\n    },\\n    \"command\": {\\n        \"name\": \"command name\",\\n        \"args\": {\\n            \"arg name\": \"value\"\\n        }\\n    }\\n}\\nEnsure the response can be parsed by Python json.loads\\nGPT-Engineer is another project to create a whole repository of code given a task specified in natural language. The GPT-Engineer is instructed to think over a list of smaller components to build and ask for user input to clarify questions as needed.\\nHere are a sample conversation for task clarification sent to OpenAI ChatCompletion endpoint used by GPT-Engineer. The user inputs are wrapped in {{user input text}}.\\n[\\n  {\\n    \"role\": \"system\",'), Document(id='e79a4be9-2465-41e9-82b6-748102f8c190', metadata={'source': 'https://lilianweng.github.io/posts/2023-06-23-agent/', 'section': 'end'}, page_content='}\\n]\\nChallenges#\\nAfter going through key ideas and demos of building LLM-centered agents, I start to see a couple common limitations:')]}}\n",
      "\n",
      "----------------\n",
      "\n",
      "{'generate': {'answer': '<think>\\nOkay, let\\'s tackle this question. The user is asking what the end of the post says about Task Decomposition. First, I need to look through the provided context to find relevant information.\\n\\nThe context mentions \"Challenges in long-term planning and task decomposition\" and states that planning over a lengthy history and exploring the solution space are challenging. It also says LLMs struggle to adjust plans when there are unexpected errors, making them less robust compared to humans. \\n\\nThe user is specifically asking about the end of the post, so I should check if the last part of the context discusses Task Decomposition. The last paragraph talks about GPT-Engineer\\'s approach, where the model breaks down tasks into smaller components and asks for user clarification. This seems related to task decomposition. \\n\\nPutting it together, the answer should mention that the end of the post discusses task decomposition as part of the challenges, noting that LLMs have difficulty adjusting plans and that GPT-Engineer uses decomposition with user input. Need to keep it concise, three sentences max.\\n</think>\\n\\nThe end of the post highlights challenges in task decomposition, noting LLMs struggle to adjust plans during unexpected errors, reducing robustness. It mentions GPT-Engineer\\'s approach of breaking tasks into smaller components and seeking user clarification for precision. Task decomposition remains critical for handling complex, long-term planning scenarios.'}}\n",
      "\n",
      "----------------\n",
      "\n"
     ]
    }
   ],
   "source": [
    "for step in graph.stream(\n",
    "    {\"question\": \"What does the end of the post say about Task Decomposition?\"},\n",
    "    stream_mode=\"updates\",\n",
    "):\n",
    "    print(f\"{step}\\n\\n----------------\\n\")"
   ]
  },
  {
   "cell_type": "code",
   "execution_count": 44,
   "id": "b5357070",
   "metadata": {},
   "outputs": [
    {
     "name": "stdout",
     "output_type": "stream",
     "text": [
      "Loaded 1 document(s)\n",
      "Total characters: 10473\n",
      "/\n",
      "\n",
      "Glossary\n",
      "\n",
      "Glossary of openBIS/Data Store terms\n",
      "\n",
      "¶ Collection\n",
      "\n",
      "In openBIS, a Collection is a folder with user-defined Properties located on the third level of the hierarchical data structure (Space/Project/Collection/Object). A Collection is always part of a Project. Collections of the same type are described by the same set of Properties. Collection types are defined as part of the openBIS masterdata. Datasets can be attached to Collections. A Collection can logically group an unlimited number of Object of one or more Object types. For instance, a Collection of the type \"Measurement Devices\" can be used to organize Objects of the type \"Instrument\" in the Inventory. A Collection of the type \"Default Experiment\" can be used to organize Objects of the type \"Experimental Step\" in the Lab Notebook.\n",
      "\n",
      "uml diagram\n",
      "\n",
      "¶ Controlled Vocabulary\n",
      "\n",
      "A controlled vocabulary is an established list of terms to provide consistency and uniqueness in the description of a given domain, e.g., a list of room labels, SI units or purity grades. In openBIS, controlled vocabularies are a possible data type for metadata Properties. Each term in a controlled vocabulary has a code, a label, and a description. All existing controlled vocabularies and their terms are listed in the Vocabulary Browser in the Utilities.\n",
      "\n",
      "¶ Dataset\n",
      "\n",
      "In openBIS, a Dataset is a folder with user-defined Properties that can contain individual files of arbitrary formats (e.g., images, csv files, xml files, etc.) as well as complex folder structures with subfolders and many files (of potentially different formats). The content of Datasets (but not their metadata) is immutable, i.e., it cannot be edited after creation. Datasets of the same type are described by the same set of Properties. Dataset types are defined as part of the openBIS masterdata. A Dataset has to be attached to either an Object or to a Collection. Different Datasets can be connected via parent-child relationships.\n",
      "\n",
      "uml diagram\n",
      "\n",
      "¶ Dropbox\n",
      "\n",
      "The Dropbox is a core openBIS plugin that allows the upload of (large) data files to an openBIS instance. Instead of using the user interface for Dataset registration, users move their data files (+ information about the Object or Collection they should be attached to) to a dedicated Dropbox folder in a file-service at BAM that is continously monitored. Once new data files are detected inside the Dropbox folder, they are automatically uploaded as Datasets to the openBIS instance. It is possible to control the Dataset registration process via Dropbox scripts written in Python. The script can register new Datasets, Objects, Properties and parent-child relationships as part of its processing. The Dropbox framework also provides tools to track file operations and, if necessary, revert them, ensuring that the incoming file or directory is returned to its original state in the event of an error. The Dropbox is not related to the commercial file hosting service.\n",
      "\n",
      "¶ Entity Types\n",
      "\n",
      "An Entity is an item of the \"real world\" (tangible/non tangible) that is uniquely identified by attributes (properties). An Entity Type is a collection of Entities with similar properties. An Entity Type is an object in a data model. In openBIS relevant entity types are Collection, Object and Dataset types. Entity types can only be created by someone with the Instance admin role.\n",
      "\n",
      "¶ Inventory\n",
      "\n",
      "The Inventory is one of the two main components of openBIS. It is used for the digital representation of shared laboratory inventory and the storage of related data files such as measuring instruments, chemical substances, and samples, but can also be user for storing protocols, standard operating procedures (SOPs) and publications. The Inventory is organized into Spaces, Projects and Collections according to the hierarchical data structure of openBIS.\n",
      "\n",
      "By default, each BAM division gets\n",
      "\n",
      "closed Inventory Spaces (Equipment, Materials, Methods, Publications) that are only accessible to division members\n",
      "\n",
      "open Inventory Projects (Equipment, Materials, Methods) that are accessible to every user of the Data Store.\n",
      "\n",
      "¶ Jupyter Notebook\n",
      "\n",
      "Jupyter Notebook is a web-based interactive computing platform that combines live code, equations, narrative text, visualizations, interactive dashboards and other media. Jupyter Notebooks can be used to analyze data stored in an openBIS instance.\n",
      "\n",
      "¶ Lab Notebook\n",
      "\n",
      "The Lab Notebook is one of the two main components of openBIS. It is the digital version of a paper lab notebook and can be used for the digital representation and documentation of experimental procedures and analyses and the storage of related data files according to good scientific practice. By default, each user gets their own personal Space in the Lab Notebook where they can represent multiple research Projects. Within a given Project, Collections can be used to represent comprehensive experiments which comprise individual Objects, e.g., of the type \"Experimental Step\". Access to the personal Lab Notebook Space or individual Projects can be shared with colleagues.\n",
      "\n",
      "uml diagram\n",
      "\n",
      "¶ Masterdata\n",
      "\n",
      "The term \"masterdata\" describes all information structures and plugins that are used to define metadata in openBIS (i.e., masterdata = \"meta-metadata\"). Masterdata is comprised of entity types, i.e., Collection, Object and Dataset types, as well as Property types, controlled vocabularies and related scripts (e.g., dynamic property plugins and entity validation scripts). Domain-specific masterdata have to be defined by the Data Store Stewards of the BAM divisions, but can only be imported to the openBIS instance (and edited) by Instance Admins.\n",
      "\n",
      "¶ Object\n",
      "\n",
      "In openBIS, an Object is an entity with user-defined Properties located on the fourth level of the hierarchical data structure (Space/Project/Collection/Object). An Object is always part of a Collection. Objects of the same type are described by the same set of Properties. Object types are defined as part of the openBIS masterdata. Datasets can be attached to Objects. An Object can be used to represent any kind of physical or intangible entity. For instance, an Object of the type \"Chemical\" can be used to represent a batch of ethanol in the Inventory. An Object of the type \"Experimental Step\" can be used to represent a measurement or an analysis in the Lab Notebook.\n",
      "\n",
      "uml diagram\n",
      "\n",
      "¶ Parent-Child Relationship\n",
      "\n",
      "A parent-child relationship is a directed link (or \"directed edge\" in graph theory) between two Objects (Object1 --> Object2) or between two Datasets (Dataset1 --> Dataset2) in an openBIS Instance. For a given relationship between two Objects (or Datasets), the Object with the outgoing edge is called the \"parent\" and the Object with the incoming edge is called the \"child\". It is not possible to have parent-child relationships between Objects and Datsets or between other entity types (e.g., Collection).\n",
      "\n",
      "Parent-child relationships can be used to represent different kinds of logical connections between Objects (or Datasets), e.g.:\n",
      "\n",
      "a partition of an entity: Object \"Sample 1\" is parent of Objects \"Sample 1A\" and \"Sample 1B\" because the original sample was broken up into two smaller sub-samples,\n",
      "\n",
      "uml diagram\n",
      "\n",
      "context in a research process, e.g., Object \"Experimental Step 1\" is child of the Objects \"Sample 1A\" and \"Measurement Device 1\" because during the experimental step, the measurement device was used to measure some properties of the sub-sample,\n",
      "\n",
      "uml diagram\n",
      "\n",
      "a temporal sequence of different steps in a workflow: Object \"Experimental_Step_1\" is parent of \"Experimental Step 2\" because the first experimental step was conducted prior to the second.\n",
      "\n",
      "uml diagram\n",
      "\n",
      "When all of these Objects and their connections to each other are combined, we get a hierarchy tree (or a \"directed acyclic graph\" (DAG) in graph theory):\n",
      "\n",
      "uml diagram\n",
      "\n",
      "Parent-child relationships are not allowed to form cycles within the graph (e.g., an Object cannot be both parent and child of another Object), otherwise an error will be reported.\n",
      "\n",
      "Parent-child relationship can also be used to represent relations between Datasets, e.g., \"Dataset_v2\" being the parent of \"Dataset_v1\" because the second Dataset is a newer version of the first one.\n",
      "\n",
      "Parent-child relationships between Objects (or Datasets) are independent of the folder hierarchy, i.e., Objects (or Datasets) can be connected across different Spaces and Projects and irrespective of whether they are located in the Inventory or the Lab Notebook. By default, every Object (or Dataset) can have a unlimited number of parents and/or children or none (N:N relationships with N being any number from 0 to N). For a given Object type, group admins can set a minimum and maximum number of children and parents of a certain type in the settings.\n",
      "\n",
      "¶ Project\n",
      "\n",
      "In openBIS, a Project is a folder located on the second level of the hierarchical data structure (Space/Project/Collection/Object). A Project is always part of a Space. A Project can logically group an unlimited number of Collections. For instance, a Project \"Reagents\" can be used to organize Collections of the type \"Chemicals\" in the Inventory. A Project \"Master Thesis\" can be used to organize Collections of the type \"Experiment\" in the Lab Notebook. Apart from a code (PermId) and a description, Projects have no metadata. User access rights can be defined at the Project-level.\n",
      "\n",
      "uml diagram\n",
      "\n",
      "¶ Property\n",
      "\n",
      "In openBIS, a Property is a metadata field that can be used to describe a Collection, an Object or a Dataset. Properties can be of different data types, e.g., numbers (Boolean, real, integer), text, hyperlink, date, controlled vocabularies but also tabular data.\n",
      "\n",
      "¶ pyBIS\n",
      "\n",
      "pyBIS is a Python module for interacting with openBIS. Most actions that can be carried out in the openBIS graphical user interface (GUI) can also be done via pyBIS. pyBIS is designed to be most useful in a Jupyter Notebook or IPython environment.\n",
      "\n",
      "¶ Space\n",
      "\n",
      "In openBIS, a Space is a folder located on the first level of the hierarchical data structure (Space/Project/Collection/Object). A Space is either located in the Inventory or in the Lab Notebook. A Space can logically group an unlimited number of Projects. For instance, a Space \"Materials\" can include the Project \"Reagents\" in the Inventory. A Space \"Master Students\" can include the Project \"Master Thesis\" in the Lab Notebook. Apart from the permanent ID (PermId) and a description, Spaces have no metadata. User access rights can be defined at the Space-level.\n",
      "\n",
      "uml diagram\n"
     ]
    }
   ],
   "source": [
    "from langchain_community.document_loaders import SeleniumURLLoader\n",
    "\n",
    "loader = SeleniumURLLoader(urls=[\"https://datastore.bam.de/en/Glossary\"])\n",
    "docs = loader.load()\n",
    "\n",
    "print(f\"Loaded {len(docs)} document(s)\")\n",
    "print(f\"Total characters: {len(docs[0].page_content)}\")\n",
    "print(docs[0].page_content[:10473])  # preview"
   ]
  },
  {
   "cell_type": "code",
   "execution_count": 45,
   "id": "670b32c3",
   "metadata": {},
   "outputs": [
    {
     "name": "stdout",
     "output_type": "stream",
     "text": [
      "Split blog post into 14 sub-documents.\n"
     ]
    }
   ],
   "source": [
    "from langchain_text_splitters import RecursiveCharacterTextSplitter\n",
    "\n",
    "text_splitter = RecursiveCharacterTextSplitter(\n",
    "    chunk_size=1000,  # chunk size (characters)\n",
    "    chunk_overlap=200,  # chunk overlap (characters)\n",
    "    add_start_index=True,  # track index in original document\n",
    ")\n",
    "all_splits = text_splitter.split_documents(docs)\n",
    "\n",
    "print(f\"Split blog post into {len(all_splits)} sub-documents.\")"
   ]
  },
  {
   "cell_type": "code",
   "execution_count": 46,
   "id": "fc77f19d",
   "metadata": {},
   "outputs": [
    {
     "name": "stdout",
     "output_type": "stream",
     "text": [
      "['0e327562-c509-484b-bed4-a07cec65b395', '6c2d213a-49af-404d-ac02-4873c643e522', '57e60334-9468-4727-a36d-ea881b53b06a']\n"
     ]
    }
   ],
   "source": [
    "# Add documents to the vector store\n",
    "document_ids = vector_store.add_documents(documents=all_splits)\n",
    "\n",
    "print(document_ids[:3])"
   ]
  },
  {
   "cell_type": "code",
   "execution_count": 47,
   "id": "52ee064a",
   "metadata": {},
   "outputs": [
    {
     "name": "stdout",
     "output_type": "stream",
     "text": [
      "You are an assistant for question-answering tasks. Use the following pieces of retrieved context to answer the question. If you don't know the answer, just say that you don't know. Use three sentences maximum and keep the answer concise.\n",
      "Question: (question goes here) \n",
      "Context: (context goes here) \n",
      "Answer:\n"
     ]
    }
   ],
   "source": [
    "from langchain import hub\n",
    "\n",
    "prompt = hub.pull(\"rlm/rag-prompt\")\n",
    "\n",
    "example_messages = prompt.invoke(\n",
    "    {\"context\": \"(context goes here)\", \"question\": \"(question goes here)\"}\n",
    ").to_messages()\n",
    "\n",
    "assert len(example_messages) == 1\n",
    "print(example_messages[0].content)"
   ]
  },
  {
   "cell_type": "markdown",
   "id": "33ae66c4",
   "metadata": {},
   "source": [
    "## State:\n",
    "The state of our application controls what data is input to the application, transferred between steps, and output by the application. It is typically a TypedDict, but can also be a Pydantic BaseModel.\n",
    "\n",
    "For a simple RAG application, we can just keep track of the input question, retrieved context, and generated answer:"
   ]
  },
  {
   "cell_type": "code",
   "execution_count": 48,
   "id": "73329476",
   "metadata": {},
   "outputs": [],
   "source": [
    "from langchain_core.documents import Document\n",
    "from typing_extensions import List, TypedDict\n",
    "\n",
    "\n",
    "class State(TypedDict):\n",
    "    question: str\n",
    "    context: List[Document]\n",
    "    answer: str"
   ]
  },
  {
   "cell_type": "markdown",
   "id": "70180aab",
   "metadata": {},
   "source": [
    "## Nodes (application steps)\n",
    "Let's start with a simple sequence of two steps: retrieval and generation."
   ]
  },
  {
   "cell_type": "code",
   "execution_count": 49,
   "id": "22520cb1",
   "metadata": {},
   "outputs": [],
   "source": [
    "def retrieve(state: State):\n",
    "    retrieved_docs = vector_store.similarity_search(state[\"question\"])\n",
    "    return {\"context\": retrieved_docs}\n",
    "\n",
    "\n",
    "def generate(state: State):\n",
    "    docs_content = \"\\n\\n\".join(doc.page_content for doc in state[\"context\"])\n",
    "    messages = prompt.invoke({\"question\": state[\"question\"], \"context\": docs_content})\n",
    "    response = llm.invoke(messages)\n",
    "    return {\"answer\": response.content}"
   ]
  },
  {
   "cell_type": "markdown",
   "id": "d61d7f59",
   "metadata": {},
   "source": [
    "Our retrieval step simply runs a similarity search using the input question, and the generation step formats the retrieved context and original question into a prompt for the chat model.\n",
    "\n",
    "## Control flow\n",
    "Finally, we compile our application into a single graph object. In this case, we are just connecting the retrieval and generation steps into a single sequence."
   ]
  },
  {
   "cell_type": "code",
   "execution_count": 50,
   "id": "53c5c43a",
   "metadata": {},
   "outputs": [],
   "source": [
    "from langgraph.graph import START, StateGraph\n",
    "\n",
    "graph_builder = StateGraph(State).add_sequence([retrieve, generate])\n",
    "graph_builder.add_edge(START, \"retrieve\")\n",
    "graph = graph_builder.compile()"
   ]
  },
  {
   "cell_type": "code",
   "execution_count": 51,
   "id": "37f4ee17",
   "metadata": {},
   "outputs": [
    {
     "data": {
      "image/png": "[encoded data removed]",
      "text/plain": [
       "<IPython.core.display.Image object>"
      ]
     },
     "metadata": {},
     "output_type": "display_data"
    }
   ],
   "source": [
    "from IPython.display import Image, display\n",
    "\n",
    "display(Image(graph.get_graph().draw_mermaid_png()))"
   ]
  },
  {
   "cell_type": "code",
   "execution_count": 54,
   "id": "2d3a6533",
   "metadata": {},
   "outputs": [
    {
     "name": "stdout",
     "output_type": "stream",
     "text": [
      "Context: [Document(id='1f1ba6a4-d431-4e7b-8a72-ed073f64ab79', metadata={'source': 'https://datastore.bam.de/en/Glossary', 'title': 'Glossary of openBIS/Data Store terms | Data Store - FDM@BAM', 'description': 'No description found.', 'language': 'en', 'start_index': 9628}, page_content='¶ pyBIS\\n\\npyBIS is a Python module for interacting with openBIS. Most actions that can be carried out in the openBIS graphical user interface (GUI) can also be done via pyBIS. pyBIS is designed to be most useful in a Jupyter Notebook or IPython environment.\\n\\n¶ Space\\n\\nIn openBIS, a Space is a folder located on the first level of the hierarchical data structure (Space/Project/Collection/Object). A Space is either located in the Inventory or in the Lab Notebook. A Space can logically group an unlimited number of Projects. For instance, a Space \"Materials\" can include the Project \"Reagents\" in the Inventory. A Space \"Master Students\" can include the Project \"Master Thesis\" in the Lab Notebook. Apart from the permanent ID (PermId) and a description, Spaces have no metadata. User access rights can be defined at the Space-level.\\n\\numl diagram'), Document(id='26260fc7-343e-4c7a-9e58-cef024da66e1', metadata={'source': 'https://datastore.bam.de/en/Glossary', 'title': 'Glossary of openBIS/Data Store terms | Data Store - FDM@BAM', 'description': 'No description found.', 'language': 'en', 'section': 'end'}, page_content='¶ pyBIS\\n\\npyBIS is a Python module for interacting with openBIS. Most actions that can be carried out in the openBIS graphical user interface (GUI) can also be done via pyBIS. pyBIS is designed to be most useful in a Jupyter Notebook or IPython environment.\\n\\n¶ Space\\n\\nIn openBIS, a Space is a folder located on the first level of the hierarchical data structure (Space/Project/Collection/Object). A Space is either located in the Inventory or in the Lab Notebook. A Space can logically group an unlimited number of Projects. For instance, a Space \"Materials\" can include the Project \"Reagents\" in the Inventory. A Space \"Master Students\" can include the Project \"Master Thesis\" in the Lab Notebook. Apart from the permanent ID (PermId) and a description, Spaces have no metadata. User access rights can be defined at the Space-level.\\n\\numl diagram'), Document(id='9f94ba1a-9229-40ba-bd83-2463b09b3658', metadata={'source': 'https://datastore.bam.de/en/Glossary', 'title': 'Glossary of openBIS/Data Store terms | Data Store - FDM@BAM', 'description': 'No description found.', 'language': 'en', 'section': 'end'}, page_content='¶ Project\\n\\nIn openBIS, a Project is a folder located on the second level of the hierarchical data structure (Space/Project/Collection/Object). A Project is always part of a Space. A Project can logically group an unlimited number of Collections. For instance, a Project \"Reagents\" can be used to organize Collections of the type \"Chemicals\" in the Inventory. A Project \"Master Thesis\" can be used to organize Collections of the type \"Experiment\" in the Lab Notebook. Apart from a code (PermId) and a description, Projects have no metadata. User access rights can be defined at the Project-level.\\n\\numl diagram\\n\\n¶ Property\\n\\nIn openBIS, a Property is a metadata field that can be used to describe a Collection, an Object or a Dataset. Properties can be of different data types, e.g., numbers (Boolean, real, integer), text, hyperlink, date, controlled vocabularies but also tabular data.\\n\\n¶ pyBIS'), Document(id='21111655-9806-4da4-a4e5-304cae07f443', metadata={'source': 'https://datastore.bam.de/en/Glossary', 'title': 'Glossary of openBIS/Data Store terms | Data Store - FDM@BAM', 'description': 'No description found.', 'language': 'en', 'start_index': 8742}, page_content='¶ Project\\n\\nIn openBIS, a Project is a folder located on the second level of the hierarchical data structure (Space/Project/Collection/Object). A Project is always part of a Space. A Project can logically group an unlimited number of Collections. For instance, a Project \"Reagents\" can be used to organize Collections of the type \"Chemicals\" in the Inventory. A Project \"Master Thesis\" can be used to organize Collections of the type \"Experiment\" in the Lab Notebook. Apart from a code (PermId) and a description, Projects have no metadata. User access rights can be defined at the Project-level.\\n\\numl diagram\\n\\n¶ Property\\n\\nIn openBIS, a Property is a metadata field that can be used to describe a Collection, an Object or a Dataset. Properties can be of different data types, e.g., numbers (Boolean, real, integer), text, hyperlink, date, controlled vocabularies but also tabular data.\\n\\n¶ pyBIS')]\n",
      "\n",
      "\n",
      "Answer: <think>\n",
      "Okay, the user is asking what the web says about pyBIS. Let me look at the provided context.\n",
      "\n",
      "The context mentions that pyBIS is a Python module for interacting with openBIS. It allows most actions done in the GUI to be performed via pyBIS, especially useful in Jupyter Notebooks or IPython. There's also info about Spaces, Projects, and Properties in openBIS, but the user specifically asked about pyBIS. \n",
      "\n",
      "I need to keep the answer concise, three sentences max. So first sentence: pyBIS is a Python module for openBIS interaction. Second: It replicates GUI actions and works well with Jupyter/IPython. Third: It's part of openBIS's hierarchical structure, but maybe that's more about the system. Wait, the third point might be about the Spaces, Projects, etc., but the user asked about pyBIS. So maybe the third sentence can mention that it's used within the openBIS framework. Let me check the context again. The context repeats the pyBIS description, so the answer should focus on pyBIS's purpose and usage. The third sentence could mention the environments it's designed for. Let me structure that.\n",
      "</think>\n",
      "\n",
      "pyBIS is a Python module for interacting with openBIS, enabling most GUI actions through code. It is optimized for use in Jupyter Notebooks or IPython environments. The tool facilitates managing openBIS's hierarchical data structure, including Spaces, Projects, and Properties.\n"
     ]
    }
   ],
   "source": [
    "result = graph.invoke({\"question\": \"What does the web says about pyBIS?\"})\n",
    "\n",
    "print(f'Context: {result[\"context\"]}\\n\\n')\n",
    "print(f'Answer: {result[\"answer\"]}')"
   ]
  },
  {
   "cell_type": "code",
   "execution_count": 41,
   "id": "c2aa8973",
   "metadata": {},
   "outputs": [],
   "source": [
    "from typing import Literal\n",
    "\n",
    "import bs4\n",
    "from langchain import hub\n",
    "from langchain_community.document_loaders import WebBaseLoader, SeleniumURLLoader\n",
    "from langchain_core.documents import Document\n",
    "from langchain_core.vectorstores import InMemoryVectorStore\n",
    "from langchain_text_splitters import RecursiveCharacterTextSplitter\n",
    "from langgraph.graph import START, StateGraph\n",
    "from typing_extensions import Annotated, List, TypedDict\n",
    "\n",
    "# Load and chunk contents of the blog\n",
    "loader = SeleniumURLLoader(urls=[\"https://datastore.bam.de/en/Glossary\"])\n",
    "docs = loader.load()\n",
    "\n",
    "text_splitter = RecursiveCharacterTextSplitter(chunk_size=1000, chunk_overlap=200)\n",
    "all_splits = text_splitter.split_documents(docs)\n",
    "\n",
    "\n",
    "# Update metadata (illustration purposes)\n",
    "total_documents = len(all_splits)\n",
    "third = total_documents // 3\n",
    "\n",
    "for i, document in enumerate(all_splits):\n",
    "    if i < third:\n",
    "        document.metadata[\"section\"] = \"beginning\"\n",
    "    elif i < 2 * third:\n",
    "        document.metadata[\"section\"] = \"middle\"\n",
    "    else:\n",
    "        document.metadata[\"section\"] = \"end\"\n",
    "\n",
    "\n",
    "# Index chunks\n",
    "vector_store = InMemoryVectorStore(embeddings)\n",
    "_ = vector_store.add_documents(all_splits)\n",
    "\n",
    "\n",
    "# Define schema for search\n",
    "class Search(TypedDict):\n",
    "    \"\"\"Search query.\"\"\"\n",
    "\n",
    "    query: Annotated[str, ..., \"Search query to run.\"]\n",
    "    section: Annotated[\n",
    "        Literal[\"beginning\", \"middle\", \"end\"],\n",
    "        ...,\n",
    "        \"Section to query.\",\n",
    "    ]\n",
    "\n",
    "# Define prompt for question-answering\n",
    "prompt = hub.pull(\"rlm/rag-prompt\")\n",
    "\n",
    "\n",
    "# Define state for application\n",
    "class State(TypedDict):\n",
    "    question: str\n",
    "    query: Search\n",
    "    context: List[Document]\n",
    "    answer: str\n",
    "\n",
    "\n",
    "def analyze_query(state: State):\n",
    "    structured_llm = llm.with_structured_output(Search)\n",
    "    query = structured_llm.invoke(state[\"question\"])\n",
    "    return {\"query\": query}\n",
    "\n",
    "\n",
    "def retrieve(state: State):\n",
    "    query = state[\"query\"]\n",
    "    retrieved_docs = vector_store.similarity_search(\n",
    "        query[\"query\"],\n",
    "        filter=lambda doc: doc.metadata.get(\"section\") == query[\"section\"],\n",
    "    )\n",
    "    return {\"context\": retrieved_docs}\n",
    "\n",
    "\n",
    "def generate(state: State):\n",
    "    docs_content = \"\\n\\n\".join(doc.page_content for doc in state[\"context\"])\n",
    "    messages = prompt.invoke({\"question\": state[\"question\"], \"context\": docs_content})\n",
    "    response = llm.invoke(messages)\n",
    "    return {\"answer\": response.content}\n",
    "\n",
    "\n",
    "graph_builder = StateGraph(State).add_sequence([analyze_query, retrieve, generate])\n",
    "graph_builder.add_edge(START, \"analyze_query\")\n",
    "graph = graph_builder.compile()"
   ]
  },
  {
   "cell_type": "code",
   "execution_count": 42,
   "id": "cb11fbca",
   "metadata": {},
   "outputs": [
    {
     "name": "stdout",
     "output_type": "stream",
     "text": [
      "{'analyze_query': {'query': {'query': 'Parent-Child Relationship', 'section': 'Middle'}}}\n",
      "\n",
      "----------------\n",
      "\n",
      "{'retrieve': {'context': []}}\n",
      "\n",
      "----------------\n",
      "\n",
      "{'generate': {'answer': \"<think>\\nOkay, the user is asking about the middle of the post regarding the Parent-Child Relationship. Let me check the context provided. Wait, the context here is empty. The user probably forgot to include the actual content they want me to reference. Since there's no context given, I can't extract any information. I should inform them that the context is missing. Let me make sure I don't make up any details. Just a straightforward response that I don't have the necessary information. Keep it concise, three sentences max. Alright, that's done.\\n</think>\\n\\nThe context provided is empty, so I cannot answer the question about the middle of the post. Please provide the relevant content for an accurate response.\"}}\n",
      "\n",
      "----------------\n",
      "\n"
     ]
    }
   ],
   "source": [
    "for step in graph.stream(\n",
    "    {\"question\": \"What does the middle of the post say about Parent-Child Relationship?\"},\n",
    "    stream_mode=\"updates\",\n",
    "):\n",
    "    print(f\"{step}\\n\\n----------------\\n\")"
   ]
  }
 ],
 "metadata": {
  "kernelspec": {
   "display_name": "base",
   "language": "python",
   "name": "python3"
  },
  "language_info": {
   "codemirror_mode": {
    "name": "ipython",
    "version": 3
   },
   "file_extension": ".py",
   "mimetype": "text/x-python",
   "name": "python",
   "nbconvert_exporter": "python",
   "pygments_lexer": "ipython3",
   "version": "3.12.7"
  }
 },
 "nbformat": 4,
 "nbformat_minor": 5
}
