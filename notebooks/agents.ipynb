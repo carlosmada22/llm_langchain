{
 "cells": [
  {
   "cell_type": "code",
   "execution_count": 11,
   "id": "3bab8a00",
   "metadata": {},
   "outputs": [],
   "source": [
    "import getpass\n",
    "import os\n",
    "\n",
    "os.environ[\"LANGSMITH_TRACING\"] = \"true\"\n",
    "os.environ[\"LANGSMITH_TRACING_v2\"] = \"true\"\n",
    "os.environ[\"LANGSMITH_PROJECT\"] = \"tutorial_chatbot\"\n",
    "os.environ[\"LANGSMITH_API_KEY\"] = \"\"\n",
    "os.environ[\"TAVILY_API_KEY\"] = \"\""
   ]
  },
  {
   "cell_type": "code",
   "execution_count": 12,
   "id": "d1b498cf",
   "metadata": {},
   "outputs": [
    {
     "data": {
      "text/plain": [
       "True"
      ]
     },
     "execution_count": 12,
     "metadata": {},
     "output_type": "execute_result"
    }
   ],
   "source": [
    "from dotenv import load_dotenv\n",
    "load_dotenv(dotenv_path=\"../.env\", override=True)"
   ]
  },
  {
   "cell_type": "code",
   "execution_count": 13,
   "id": "c1bd23c0",
   "metadata": {},
   "outputs": [
    {
     "data": {
      "text/plain": [
       "True"
      ]
     },
     "execution_count": 13,
     "metadata": {},
     "output_type": "execute_result"
    }
   ],
   "source": [
    "from langsmith import utils\n",
    "utils.tracing_is_enabled()"
   ]
  },
  {
   "cell_type": "code",
   "execution_count": 14,
   "id": "b65879f7",
   "metadata": {},
   "outputs": [],
   "source": [
    "from langchain_ollama import ChatOllama\n",
    "\n",
    "model = ChatOllama(model=os.getenv(\"LLM_MODEL\"))"
   ]
  },
  {
   "cell_type": "code",
   "execution_count": 18,
   "id": "9099f0e3",
   "metadata": {},
   "outputs": [
    {
     "name": "stdout",
     "output_type": "stream",
     "text": [
      "[{'url': 'https://www.uzh.ch/blog/hbz/2019/11/20/how-to-use-openbis-as-electronic-lab-notebook/?lang=en', 'content': 'openBIS is a free and open-source data manager developed by the ETH Zurich and supports the full data life cycle from project inception, through data production and analysis, to making the data available to the public. [...] Bauch, A., Adamczyk, I., Buczek, P. et al. openBIS: a flexible framework for managing and analyzing complex data in biology research. BMC Bioinformatics12, 468 (2011)Barillari C,, Ottoz D, Fuentes-Serna, J. et al. openBIS ELN-LIMS: an open-source database for academic laboratories. Bioinformatics, Volume 32, Issue 4, 15 February 2016, Pages 638–640 [...] The openBIS electronic lab notebook, ELN, is a relatively recent addition, and it can replace paper-based lab notebooks. Through a web interface, the ELN is making it easier to capture the sample preparation process, keep track of reagents and protocols, and, importantly, explicitly link the protocols, reagents, and samples. Check out the openBIS ELN demo instance and tutorials for further information.\\n\\nFurther reading:'}, {'url': 'https://www.youtube.com/watch?v=Iop2WmVyZjQ', 'content': 'This webinar provides a general overview of openBIS (https://openbis.ch/) is a combined data management platform, Electronic Laboratory Notebook, and Inventory Management System. openBIS helps scientists meet requirements from funding agencies, journals, and academic institutions to publish data according to the FAIR data principles. Scientists can use openBIS to document their daily experimental or computational work, store any related experimental raw and derived data, and link everything to'}]\n"
     ]
    }
   ],
   "source": [
    "from langchain_community.tools.tavily_search import TavilySearchResults\n",
    "\n",
    "search = TavilySearchResults(max_results=2)\n",
    "search_results = search.invoke(\"What is openBIS and how to use it?\")\n",
    "print(search_results)\n",
    "# If we want, we can create other tools.\n",
    "# Once we have all the tools we want, we can put them in a list that we will reference later.\n",
    "tools = [search]"
   ]
  }
 ],
 "metadata": {
  "kernelspec": {
   "display_name": "base",
   "language": "python",
   "name": "python3"
  },
  "language_info": {
   "codemirror_mode": {
    "name": "ipython",
    "version": 3
   },
   "file_extension": ".py",
   "mimetype": "text/x-python",
   "name": "python",
   "nbconvert_exporter": "python",
   "pygments_lexer": "ipython3",
   "version": "3.12.7"
  }
 },
 "nbformat": 4,
 "nbformat_minor": 5
}
